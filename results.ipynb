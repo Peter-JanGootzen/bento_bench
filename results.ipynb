{
 "cells": [
  {
   "cell_type": "code",
   "execution_count": 1,
   "metadata": {},
   "outputs": [],
   "source": [
    "import re\n",
    "import numpy as np\n",
    "from statistics import mean, stdev\n",
    "import matplotlib.pyplot as plt\n",
    "from bento_bench import bar_plot, parse_elapsed_secs\n",
    "import seaborn as sns\n",
    "fsl = [\"Bento-fs\", \"Bento-user\", \"Bento-prov\", \"ext4-ordered\", \"ext4-journal\"]\n",
    "tl = [1, 18]"
   ]
  },
  {
   "cell_type": "code",
   "execution_count": 2,
   "metadata": {},
   "outputs": [
    {
     "name": "stdout",
     "output_type": "stream",
     "text": [
      "{'Bento-fs': [33.766999999999996, 165.06799999999998], 'Bento-user': [37.865, 167.606], 'Bento-prov': [34.21, 165.18], 'ext4-ordered': [34.541, 165.739], 'ext4-journal': [37.016, 168.482]}\n",
      "{'Bento-fs': [1.708, 0.482], 'Bento-user': [1.78, 1.02], 'Bento-prov': [1.911, 0.499], 'ext4-ordered': [1.1869999999999998, 0.526], 'ext4-journal': [1.222, 0.575]}\n"
     ]
    },
    {
     "data": {
      "image/png": "[encoded data removed]",
      "text/plain": [
       "<Figure size 432x288 with 1 Axes>"
      ]
     },
     "metadata": {
      "needs_background": "light"
     },
     "output_type": "display_data"
    },
    {
     "data": {
      "image/png": "[encoded data removed]",
      "text/plain": [
       "<Figure size 432x288 with 1 Axes>"
      ]
     },
     "metadata": {
      "needs_background": "light"
     },
     "output_type": "display_data"
    }
   ],
   "source": [
    "otherapps_1 = [\"untar\", \"tar\"]\n",
    "otherapps_2 = [\"grep\", \"gitclone\"]\n",
    "otherapps_results_1 = {}\n",
    "otherapps_results_2 = {}\n",
    "for fs in fsl:\n",
    "\totherapps_results_1[fs] = []\n",
    "\tfor app in otherapps_1:\n",
    "\t\ttmp = []\n",
    "\t\tdir = \"./results/\" + fs + \"/\" + app\n",
    "\t\tfor f in os.listdir(dir):\n",
    "\t\t\ti = int(f.split(\"_\")[1])\n",
    "\t\t\tfr = open(dir + \"/\" + f, 'r')\n",
    "\t\t\tt = fr.read()\n",
    "\t\t\tfr.close()\n",
    "\t\t\tmatches = re.findall(\"\\d*:\\d*.\\d*(?=elapsed)\", t)\n",
    "\t\t\ttmp.append(parse_elapsed_secs(matches[0]))\n",
    "\t\totherapps_results_1[fs].append(mean(tmp))\n",
    "\totherapps_results_2[fs] = []\n",
    "\tfor app in otherapps_2:\n",
    "\t\ttmp = []\n",
    "\t\tdir = \"./results/\" + fs + \"/\" + app\n",
    "\t\tfor f in os.listdir(dir):\n",
    "\t\t\ti = int(f.split(\"_\")[1])\n",
    "\t\t\tfr = open(dir + \"/\" + f, 'r')\n",
    "\t\t\tt = fr.read()\n",
    "\t\t\tfr.close()\n",
    "\t\t\tmatches = re.findall(\"\\d*:\\d*.\\d*(?=elapsed)\", t)\n",
    "\t\t\ttmp.append(parse_elapsed_secs(matches[0]))\n",
    "\t\totherapps_results_2[fs].append(mean(tmp))\n",
    "print(otherapps_results_1)\n",
    "print(otherapps_results_2)\n",
    "\n",
    "fig, ax = plt.subplots()\n",
    "#bax = brokenaxes(ylims=((0, 10), (25, 50), (150, 170)), hspace=.1)\n",
    "bar_plot(ax, otherapps_results_1, fsl, total_width=.8, single_width=.9)\n",
    "plt.xticks(range(len(otherapps_1)), otherapps_1)\n",
    "plt.show()\n",
    "fig, ax = plt.subplots()\n",
    "#bax = brokenaxes(ylims=((0, 10), (25, 50), (150, 170)), hspace=.1)\n",
    "bar_plot(ax, otherapps_results_2, fsl, total_width=.8, single_width=.9)\n",
    "plt.xticks(range(len(otherapps_2)), otherapps_2)\n",
    "plt.show()\n",
    "\n",
    "#width =0.3\n",
    "#for i, fs in enumerate(fsl):\n",
    "#\tplt.bar(np.arange(len(otherapps_results[fs])) + i * width, otherapps_results[fs], width=width)\n",
    "#plt.xticks(range(len(otherapps)), otherapps)\n",
    "#plt.show()"
   ]
  },
  {
   "cell_type": "code",
   "execution_count": 11,
   "metadata": {},
   "outputs": [
    {
     "name": "stdout",
     "output_type": "stream",
     "text": [
      "{'Bento-fs': [13.0364623, 11.9022662], 'Bento-user': [13.036091800000001, 13.3242299], 'Bento-prov': [12.777818900000002, 12.300950400000001], 'ext4-ordered': [14.234438500000001, 14.003521800000001], 'ext4-journal': [13.9769209, 13.4250801]}\n",
      "{'Bento-fs': [48.769999999999996, 70.46000000000001], 'Bento-user': [45.18, 67.86], 'Bento-prov': [47.57, 70.64], 'ext4-ordered': [41.16, 69.59], 'ext4-journal': [39.7, 67.54]}\n"
     ]
    },
    {
     "data": {
      "image/png": "[encoded data removed]",
      "text/plain": [
       "<Figure size 432x288 with 1 Axes>"
      ]
     },
     "metadata": {
      "needs_background": "light"
     },
     "output_type": "display_data"
    }
   ],
   "source": [
    "redis = [\"set\", \"get\"]\n",
    "rocksdb = [\"fillrandom\", \"readrandom\"]\n",
    "redis_results = {}\n",
    "rocksdb_results = {}\n",
    "\n",
    "for fs in fsl:\n",
    "\tredis_results[fs] = []\n",
    "\ttmp_set = []\n",
    "\ttmp_get = []\n",
    "\tdir = \"./results/\" + fs + \"/redis\"\n",
    "\tfor f in os.listdir(dir):\n",
    "\t\ti = int(f.split(\"_\")[1])\n",
    "\t\tfr = open(dir + \"/\" + f, 'r')\n",
    "\t\tt = fr.read()\n",
    "\t\tfr.close()\n",
    "\t\tmatches = re.findall(\"\\d*.\\d*(?= requests per second)\", t)\n",
    "\t\ttmp_set.append(float(matches[0]) * 0.0001) # convert\n",
    "\t\ttmp_get.append(float(matches[1]) * 0.0001) # convert\n",
    "\tredis_results[fs].append(mean(tmp_set))\n",
    "\tredis_results[fs].append(mean(tmp_get))\n",
    "\n",
    "\trocksdb_results[fs] = []\n",
    "\ttmp_fillrandom = []\n",
    "\ttmp_readrandom = []\n",
    "\tdir = \"./results/\" + fs + \"/rocksdb\"\n",
    "\tfor f in os.listdir(dir):\n",
    "\t\ti = int(f.split(\"_\")[1])\n",
    "\t\tfr = open(dir + \"/\" + f, 'r')\n",
    "\t\tt = fr.read()\n",
    "\t\tfr.close()\n",
    "\t\tmatches = re.findall(\"\\d*.\\d*(?= MB/s)\", t)\n",
    "\t\ttmp_fillrandom.append(float(matches[0]))\n",
    "\t\ttmp_readrandom.append(float(matches[1]))\n",
    "\trocksdb_results[fs].append(mean(tmp_fillrandom))\n",
    "\trocksdb_results[fs].append(mean(tmp_readrandom))\n",
    "\n",
    "print(redis_results)\n",
    "print(rocksdb_results)\n",
    "fig, ax = plt.subplots()\n",
    "#bax = brokenaxes(ylims=((0, 10), (25, 50), (150, 170)), hspace=.1)\n",
    "bar_plot(ax, redis_results, fsl, total_width=.8, single_width=.9)\n",
    "plt.xticks(range(len(redis)), redis)\n",
    "plt.show()"
   ]
  },
  {
   "cell_type": "code",
   "execution_count": null,
   "metadata": {},
   "outputs": [],
   "source": []
  }
 ],
 "metadata": {
  "interpreter": {
   "hash": "4e1d9a8909477db77738c33245c29c7265277ef753467dede8cf3f814cde494e"
  },
  "kernelspec": {
   "display_name": "Python 3.9.5 64-bit",
   "name": "python3"
  },
  "language_info": {
   "codemirror_mode": {
    "name": "ipython",
    "version": 3
   },
   "file_extension": ".py",
   "mimetype": "text/x-python",
   "name": "python",
   "nbconvert_exporter": "python",
   "pygments_lexer": "ipython3",
   "version": "3.9.5"
  },
  "orig_nbformat": 4
 },
 "nbformat": 4,
 "nbformat_minor": 2
}