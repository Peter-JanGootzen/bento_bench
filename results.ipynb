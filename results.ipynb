{
 "cells": [
  {
   "cell_type": "code",
   "execution_count": 27,
   "metadata": {},
   "outputs": [],
   "source": [
    "import re\n",
    "import numpy as np\n",
    "from statistics import mean, stdev\n",
    "import matplotlib.pyplot as plt\n",
    "from brokenaxes import brokenaxes\n",
    "import seaborn as sns\n",
    "fsl = [\"Bento-fs\", \"Bento-user\", \"Bento-prov\", \"ext4-ordered\", \"ext4-journal\"]"
   ]
  },
  {
   "cell_type": "code",
   "execution_count": 22,
   "metadata": {},
   "outputs": [],
   "source": [
    "def parse_elapsed_secs(s):\n",
    "\tsecs = 0.0\n",
    "\tsecs += float(s.split(\":\")[0]) * 60\n",
    "\tsecs += float(s.split(\":\")[1].split(\".\")[0])\n",
    "\tsecs += float(\"0.\" + s.split(\":\")[1].split(\".\")[1])\n",
    "\treturn secs"
   ]
  },
  {
   "cell_type": "code",
   "execution_count": 41,
   "metadata": {},
   "outputs": [],
   "source": [
    "def bar_plot(ax, data, l, colors=None, total_width=0.8, single_width=1):\n",
    "    # Check if colors where provided, otherwhise use the default color cycle\n",
    "    if colors is None:\n",
    "        colors = plt.rcParams['axes.prop_cycle'].by_key()['color']\n",
    "\n",
    "    # Number of bars per group\n",
    "    n_bars = len(data)\n",
    "\n",
    "    # The width of a single bar\n",
    "    bar_width = total_width / n_bars\n",
    "\n",
    "    # List containing handles for the drawn bars, used for the legend\n",
    "    bars = []\n",
    "\n",
    "    # Iterate over all data\n",
    "    for i, (name, values) in enumerate(data.items()):\n",
    "        # The offset in x direction of that bar\n",
    "        x_offset = (i - n_bars / 2) * bar_width + bar_width / 2\n",
    "\n",
    "        # Draw a bar for every value of that type\n",
    "        for x, y in enumerate(values):\n",
    "            bar = ax.bar(x + x_offset, y, width=bar_width * single_width, color=colors[i % len(colors)])\n",
    "\n",
    "        # Add a handle to the last drawn bar, which we'll need for the legend\n",
    "        bars.append(bar[0])\n",
    "    \n",
    "    if l is not None:\n",
    "        ax.legend(bars, l)"
   ]
  },
  {
   "cell_type": "code",
   "execution_count": 52,
   "metadata": {},
   "outputs": [
    {
     "name": "stdout",
     "output_type": "stream",
     "text": [
      "{'Bento-fs': [33.766999999999996, 165.06799999999998], 'Bento-user': [37.865, 167.606], 'Bento-prov': [34.21, 165.18], 'ext4-ordered': [34.541, 165.739], 'ext4-journal': [37.016, 168.482]}\n",
      "{'Bento-fs': [1.708, 0.482], 'Bento-user': [1.78, 1.02], 'Bento-prov': [1.911, 0.499], 'ext4-ordered': [1.1869999999999998, 0.526], 'ext4-journal': [1.222, 0.575]}\n"
     ]
    },
    {
     "data": {
      "image/png": "[encoded data removed]",
      "text/plain": [
       "<Figure size 432x288 with 1 Axes>"
      ]
     },
     "metadata": {
      "needs_background": "light"
     },
     "output_type": "display_data"
    },
    {
     "data": {
      "image/png": "[encoded data removed]",
      "text/plain": [
       "<Figure size 432x288 with 1 Axes>"
      ]
     },
     "metadata": {
      "needs_background": "light"
     },
     "output_type": "display_data"
    }
   ],
   "source": [
    "otherapps_1 = [\"untar\", \"tar\"]\n",
    "otherapps_2 = [\"grep\", \"gitclone\"]\n",
    "otherapps_results_1 = {}\n",
    "otherapps_results_2 = {}\n",
    "for fs in fsl:\n",
    "\totherapps_results_1[fs] = []\n",
    "\tfor app in otherapps_1:\n",
    "\t\ttmp = []\n",
    "\t\tdir = \"./results/\" + fs + \"/\" + app\n",
    "\t\tfor f in os.listdir(dir):\n",
    "\t\t\ti = int(f.split(\"_\")[1])\n",
    "\t\t\tfr = open(dir + \"/\" + f, 'r')\n",
    "\t\t\tt = fr.read()\n",
    "\t\t\tfr.close()\n",
    "\t\t\tmatches = re.findall(\"\\d*:\\d*.\\d*(?=elapsed)\", t)\n",
    "\t\t\ttmp.append(parse_elapsed_secs(matches[0]))\n",
    "\t\totherapps_results_1[fs].append(mean(tmp))\n",
    "\totherapps_results_2[fs] = []\n",
    "\tfor app in otherapps_2:\n",
    "\t\ttmp = []\n",
    "\t\tdir = \"./results/\" + fs + \"/\" + app\n",
    "\t\tfor f in os.listdir(dir):\n",
    "\t\t\ti = int(f.split(\"_\")[1])\n",
    "\t\t\tfr = open(dir + \"/\" + f, 'r')\n",
    "\t\t\tt = fr.read()\n",
    "\t\t\tfr.close()\n",
    "\t\t\tmatches = re.findall(\"\\d*:\\d*.\\d*(?=elapsed)\", t)\n",
    "\t\t\ttmp.append(parse_elapsed_secs(matches[0]))\n",
    "\t\totherapps_results_2[fs].append(mean(tmp))\n",
    "print(otherapps_results_1)\n",
    "print(otherapps_results_2)\n",
    "\n",
    "fig, ax = plt.subplots()\n",
    "#bax = brokenaxes(ylims=((0, 10), (25, 50), (150, 170)), hspace=.1)\n",
    "bar_plot(ax, otherapps_results_1, fsl, total_width=.8, single_width=.9)\n",
    "plt.xticks(range(len(otherapps_1)), otherapps_1)\n",
    "plt.show()\n",
    "fig, ax = plt.subplots()\n",
    "#bax = brokenaxes(ylims=((0, 10), (25, 50), (150, 170)), hspace=.1)\n",
    "bar_plot(ax, otherapps_results_2, fsl, total_width=.8, single_width=.9)\n",
    "plt.xticks(range(len(otherapps_2)), otherapps_2)\n",
    "plt.show()\n",
    "\n",
    "#width =0.3\n",
    "#for i, fs in enumerate(fsl):\n",
    "#\tplt.bar(np.arange(len(otherapps_results[fs])) + i * width, otherapps_results[fs], width=width)\n",
    "#plt.xticks(range(len(otherapps)), otherapps)\n",
    "#plt.show()"
   ]
  },
  {
   "cell_type": "code",
   "execution_count": 48,
   "metadata": {},
   "outputs": [
    {
     "name": "stdout",
     "output_type": "stream",
     "text": [
      "{'Bento-fs': [0.13036462299999999, 0.119022662, 48.769999999999996, 70.46000000000001], 'Bento-user': [0.130360918, 0.13324229899999998, 45.18, 67.86], 'Bento-prov': [0.127778189, 0.12300950399999999, 47.57, 70.64], 'ext4-ordered': [0.142344385, 0.140035218, 41.16, 69.59], 'ext4-journal': [0.139769209, 0.134250801, 39.7, 67.54]}\n"
     ]
    },
    {
     "data": {
      "image/png": "[encoded data removed]",
      "text/plain": [
       "<Figure size 432x288 with 1 Axes>"
      ]
     },
     "metadata": {
      "needs_background": "light"
     },
     "output_type": "display_data"
    }
   ],
   "source": [
    "redisrocks = [\"set\", \"get\", \"fillrandom\", \"readrandom\"]\n",
    "redisrocks_results = {}\n",
    "\n",
    "for fs in fsl:\n",
    "\tredisrocks_results[fs] = []\n",
    "\ttmp_set = []\n",
    "\ttmp_get = []\n",
    "\tdir = \"./results/\" + fs + \"/redis\"\n",
    "\tfor f in os.listdir(dir):\n",
    "\t\ti = int(f.split(\"_\")[1])\n",
    "\t\tfr = open(dir + \"/\" + f, 'r')\n",
    "\t\tt = fr.read()\n",
    "\t\tfr.close()\n",
    "\t\tmatches = re.findall(\"\\d*.\\d*(?= requests per second)\", t)\n",
    "\t\ttmp_set.append(float(matches[0]) * 0.000001) # convert bytes to Megabytes\n",
    "\t\ttmp_get.append(float(matches[1]) * 0.000001) # convert bytes to Megabytes\n",
    "\tredisrocks_results[fs].append(mean(tmp_set))\n",
    "\tredisrocks_results[fs].append(mean(tmp_get))\n",
    "\n",
    "\ttmp_fillrandom = []\n",
    "\ttmp_readrandom = []\n",
    "\tdir = \"./results/\" + fs + \"/rocksdb\"\n",
    "\tfor f in os.listdir(dir):\n",
    "\t\ti = int(f.split(\"_\")[1])\n",
    "\t\tfr = open(dir + \"/\" + f, 'r')\n",
    "\t\tt = fr.read()\n",
    "\t\tfr.close()\n",
    "\t\tmatches = re.findall(\"\\d*.\\d*(?= MB/s)\", t)\n",
    "\t\ttmp_fillrandom.append(float(matches[0]))\n",
    "\t\ttmp_readrandom.append(float(matches[1]))\n",
    "\tredisrocks_results[fs].append(mean(tmp_fillrandom))\n",
    "\tredisrocks_results[fs].append(mean(tmp_readrandom))\n",
    "\n",
    "print(redisrocks_results)\n",
    "fig, ax = plt.subplots()\n",
    "#bax = brokenaxes(ylims=((0, 10), (25, 50), (150, 170)), hspace=.1)\n",
    "bar_plot(ax, redisrocks_results, fsl, total_width=.8, single_width=.9)\n",
    "plt.xticks(range(len(redisrocks)), redisrocks)\n",
    "plt.show()"
   ]
  },
  {
   "cell_type": "code",
   "execution_count": 10,
   "metadata": {},
   "outputs": [
    {
     "data": {
      "application/vnd.code.notebook.stdout": [
       "{'Bento-fs': [0.13036462299999999, 0.119022662, 48.769999999999996, 70.46000000000001]}\n"
      ]
     },
     "output_type": "unknown"
    },
    {
     "data": {
      "image/png": "[encoded data removed]",
      "text/plain": [
       "<Figure size 432x288 with 1 Axes>"
      ]
     },
     "output_type": "unknown"
    }
   ],
   "source": [
    "redisrocks = [\"set\", \"get\", \"fillrandom\", \"readrandom\"]\n",
    "redisrocks_results = {}\n",
    "\n",
    "for fs in fsl:\n",
    "\tredisrocks_results[fs] = []\n",
    "\ttmp_set = []\n",
    "\ttmp_get = []\n",
    "\tdir = \"./results/\" + fs + \"/redis\"\n",
    "\tfor f in os.listdir(dir):\n",
    "\t\ti = int(f.split(\"_\")[1])\n",
    "\t\tfr = open(dir + \"/\" + f, 'r')\n",
    "\t\tt = fr.read()\n",
    "\t\tfr.close()\n",
    "\t\tmatches = re.findall(\"\\d*.\\d*(?= requests per second)\", t)\n",
    "\t\ttmp_set.append(float(matches[0]) * 0.000001) # convert bytes to Megabytes\n",
    "\t\ttmp_get.append(float(matches[1]) * 0.000001) # convert bytes to Megabytes\n",
    "\tredisrocks_results[fs].append(mean(tmp_set))\n",
    "\tredisrocks_results[fs].append(mean(tmp_get))\n",
    "\n",
    "\ttmp_fillrandom = []\n",
    "\ttmp_readrandom = []\n",
    "\tdir = \"./results/\" + fs + \"/rocksdb\"\n",
    "\tfor f in os.listdir(dir):\n",
    "\t\ti = int(f.split(\"_\")[1])\n",
    "\t\tfr = open(dir + \"/\" + f, 'r')\n",
    "\t\tt = fr.read()\n",
    "\t\tfr.close()\n",
    "\t\tmatches = re.findall(\"\\d*.\\d*(?= MB/s)\", t)\n",
    "\t\ttmp_fillrandom.append(float(matches[0]))\n",
    "\t\ttmp_readrandom.append(float(matches[1]))\n",
    "\tredisrocks_results[fs].append(mean(tmp_fillrandom))\n",
    "\tredisrocks_results[fs].append(mean(tmp_readrandom))\n",
    "\n",
    "print(redisrocks_results)\n",
    "width =0.3\n",
    "for fs in fsl:\n",
    "\tplt.bar(np.arange(len(redisrocks_results[fs])), redisrocks_results[fs], width=width)\n",
    "plt.xticks(range(len(redisrocks)), redisrocks)\n",
    "plt.show()"
   ]
  },
  {
   "cell_type": "code",
   "execution_count": 20,
   "metadata": {},
   "outputs": [
    {
     "data": {
      "text/html": [
       "<div>\n",
       "<style scoped>\n",
       "    .dataframe tbody tr th:only-of-type {\n",
       "        vertical-align: middle;\n",
       "    }\n",
       "\n",
       "    .dataframe tbody tr th {\n",
       "        vertical-align: top;\n",
       "    }\n",
       "\n",
       "    .dataframe thead th {\n",
       "        text-align: right;\n",
       "    }\n",
       "</style>\n",
       "<table border=\"1\" class=\"dataframe\">\n",
       "  <thead>\n",
       "    <tr style=\"text-align: right;\">\n",
       "      <th></th>\n",
       "      <th>total_bill</th>\n",
       "      <th>tip</th>\n",
       "      <th>sex</th>\n",
       "      <th>smoker</th>\n",
       "      <th>day</th>\n",
       "      <th>time</th>\n",
       "      <th>size</th>\n",
       "    </tr>\n",
       "  </thead>\n",
       "  <tbody>\n",
       "    <tr>\n",
       "      <th>0</th>\n",
       "      <td>16.99</td>\n",
       "      <td>1.01</td>\n",
       "      <td>Female</td>\n",
       "      <td>No</td>\n",
       "      <td>Sun</td>\n",
       "      <td>Dinner</td>\n",
       "      <td>2</td>\n",
       "    </tr>\n",
       "    <tr>\n",
       "      <th>1</th>\n",
       "      <td>10.34</td>\n",
       "      <td>1.66</td>\n",
       "      <td>Male</td>\n",
       "      <td>No</td>\n",
       "      <td>Sun</td>\n",
       "      <td>Dinner</td>\n",
       "      <td>3</td>\n",
       "    </tr>\n",
       "    <tr>\n",
       "      <th>2</th>\n",
       "      <td>21.01</td>\n",
       "      <td>3.50</td>\n",
       "      <td>Male</td>\n",
       "      <td>No</td>\n",
       "      <td>Sun</td>\n",
       "      <td>Dinner</td>\n",
       "      <td>3</td>\n",
       "    </tr>\n",
       "    <tr>\n",
       "      <th>3</th>\n",
       "      <td>23.68</td>\n",
       "      <td>3.31</td>\n",
       "      <td>Male</td>\n",
       "      <td>No</td>\n",
       "      <td>Sun</td>\n",
       "      <td>Dinner</td>\n",
       "      <td>2</td>\n",
       "    </tr>\n",
       "    <tr>\n",
       "      <th>4</th>\n",
       "      <td>24.59</td>\n",
       "      <td>3.61</td>\n",
       "      <td>Female</td>\n",
       "      <td>No</td>\n",
       "      <td>Sun</td>\n",
       "      <td>Dinner</td>\n",
       "      <td>4</td>\n",
       "    </tr>\n",
       "    <tr>\n",
       "      <th>...</th>\n",
       "      <td>...</td>\n",
       "      <td>...</td>\n",
       "      <td>...</td>\n",
       "      <td>...</td>\n",
       "      <td>...</td>\n",
       "      <td>...</td>\n",
       "      <td>...</td>\n",
       "    </tr>\n",
       "    <tr>\n",
       "      <th>239</th>\n",
       "      <td>29.03</td>\n",
       "      <td>5.92</td>\n",
       "      <td>Male</td>\n",
       "      <td>No</td>\n",
       "      <td>Sat</td>\n",
       "      <td>Dinner</td>\n",
       "      <td>3</td>\n",
       "    </tr>\n",
       "    <tr>\n",
       "      <th>240</th>\n",
       "      <td>27.18</td>\n",
       "      <td>2.00</td>\n",
       "      <td>Female</td>\n",
       "      <td>Yes</td>\n",
       "      <td>Sat</td>\n",
       "      <td>Dinner</td>\n",
       "      <td>2</td>\n",
       "    </tr>\n",
       "    <tr>\n",
       "      <th>241</th>\n",
       "      <td>22.67</td>\n",
       "      <td>2.00</td>\n",
       "      <td>Male</td>\n",
       "      <td>Yes</td>\n",
       "      <td>Sat</td>\n",
       "      <td>Dinner</td>\n",
       "      <td>2</td>\n",
       "    </tr>\n",
       "    <tr>\n",
       "      <th>242</th>\n",
       "      <td>17.82</td>\n",
       "      <td>1.75</td>\n",
       "      <td>Male</td>\n",
       "      <td>No</td>\n",
       "      <td>Sat</td>\n",
       "      <td>Dinner</td>\n",
       "      <td>2</td>\n",
       "    </tr>\n",
       "    <tr>\n",
       "      <th>243</th>\n",
       "      <td>18.78</td>\n",
       "      <td>3.00</td>\n",
       "      <td>Female</td>\n",
       "      <td>No</td>\n",
       "      <td>Thur</td>\n",
       "      <td>Dinner</td>\n",
       "      <td>2</td>\n",
       "    </tr>\n",
       "  </tbody>\n",
       "</table>\n",
       "<p>244 rows × 7 columns</p>\n",
       "</div>"
      ],
      "text/plain": [
       "     total_bill   tip     sex smoker   day    time  size\n",
       "0         16.99  1.01  Female     No   Sun  Dinner     2\n",
       "1         10.34  1.66    Male     No   Sun  Dinner     3\n",
       "2         21.01  3.50    Male     No   Sun  Dinner     3\n",
       "3         23.68  3.31    Male     No   Sun  Dinner     2\n",
       "4         24.59  3.61  Female     No   Sun  Dinner     4\n",
       "..          ...   ...     ...    ...   ...     ...   ...\n",
       "239       29.03  5.92    Male     No   Sat  Dinner     3\n",
       "240       27.18  2.00  Female    Yes   Sat  Dinner     2\n",
       "241       22.67  2.00    Male    Yes   Sat  Dinner     2\n",
       "242       17.82  1.75    Male     No   Sat  Dinner     2\n",
       "243       18.78  3.00  Female     No  Thur  Dinner     2\n",
       "\n",
       "[244 rows x 7 columns]"
      ]
     },
     "execution_count": 20,
     "metadata": {},
     "output_type": "execute_result"
    }
   ],
   "source": [
    "sns.load_dataset(\"tips\")"
   ]
  },
  {
   "cell_type": "code",
   "execution_count": 10,
   "metadata": {},
   "outputs": [
    {
     "name": "stdout",
     "output_type": "stream",
     "text": [
      "{'Bento-fs': [0.13036462299999999, 0.119022662, 48.769999999999996, 70.46000000000001]}\n"
     ]
    },
    {
     "data": {
      "image/png": "[encoded data removed]",
      "text/plain": [
       "<Figure size 432x288 with 1 Axes>"
      ]
     },
     "metadata": {
      "needs_background": "light"
     },
     "output_type": "display_data"
    }
   ],
   "source": [
    "redisrocks = [\"set\", \"get\", \"fillrandom\", \"readrandom\"]\n",
    "redisrocks_results = {}\n",
    "\n",
    "for fs in fsl:\n",
    "\tredisrocks_results[fs] = []\n",
    "\ttmp_set = []\n",
    "\ttmp_get = []\n",
    "\tdir = \"./results/\" + fs + \"/redis\"\n",
    "\tfor f in os.listdir(dir):\n",
    "\t\ti = int(f.split(\"_\")[1])\n",
    "\t\tfr = open(dir + \"/\" + f, 'r')\n",
    "\t\tt = fr.read()\n",
    "\t\tfr.close()\n",
    "\t\tmatches = re.findall(\"\\d*.\\d*(?= requests per second)\", t)\n",
    "\t\ttmp_set.append(float(matches[0]) * 0.000001) # convert bytes to Megabytes\n",
    "\t\ttmp_get.append(float(matches[1]) * 0.000001) # convert bytes to Megabytes\n",
    "\tredisrocks_results[fs].append(mean(tmp_set))\n",
    "\tredisrocks_results[fs].append(mean(tmp_get))\n",
    "\n",
    "\ttmp_fillrandom = []\n",
    "\ttmp_readrandom = []\n",
    "\tdir = \"./results/\" + fs + \"/rocksdb\"\n",
    "\tfor f in os.listdir(dir):\n",
    "\t\ti = int(f.split(\"_\")[1])\n",
    "\t\tfr = open(dir + \"/\" + f, 'r')\n",
    "\t\tt = fr.read()\n",
    "\t\tfr.close()\n",
    "\t\tmatches = re.findall(\"\\d*.\\d*(?= MB/s)\", t)\n",
    "\t\ttmp_fillrandom.append(float(matches[0]))\n",
    "\t\ttmp_readrandom.append(float(matches[1]))\n",
    "\tredisrocks_results[fs].append(mean(tmp_fillrandom))\n",
    "\tredisrocks_results[fs].append(mean(tmp_readrandom))\n",
    "\n",
    "print(redisrocks_results)\n",
    "width =0.3\n",
    "for fs in fsl:\n",
    "\tplt.bar(np.arange(len(redisrocks_results[fs])), redisrocks_results[fs], width=width)\n",
    "plt.xticks(range(len(redisrocks)), redisrocks)\n",
    "plt.show()"
   ]
  }
 ],
 "metadata": {
  "interpreter": {
   "hash": "4e1d9a8909477db77738c33245c29c7265277ef753467dede8cf3f814cde494e"
  },
  "kernelspec": {
   "display_name": "Python 3.9.5 64-bit",
   "name": "python3"
  },
  "language_info": {
   "name": "python",
   "version": ""
  },
  "orig_nbformat": 4
 },
 "nbformat": 4,
 "nbformat_minor": 2
}